{
 "cells": [
  {
   "cell_type": "markdown",
   "id": "cc5e19da",
   "metadata": {},
   "source": [
    "EXERCISE=2  \n",
    "# Data Science Tools and Ecosystem"
   ]
  },
  {
   "cell_type": "markdown",
   "id": "905770a4",
   "metadata": {},
   "source": [
    "EXERCISE=3  \n",
    "In this notebook, Data Science Tools and Ecosystem are summarized. "
   ]
  },
  {
   "cell_type": "markdown",
   "id": "aa62c9b5",
   "metadata": {},
   "source": [
    "**Objectives**  \n",
    "- List of data science languages\n",
    "- List of data science libraries\n",
    "- List of data science tools\n",
    "- Rstudio and Github tutorial"
   ]
  },
  {
   "cell_type": "markdown",
   "id": "0680d4a0",
   "metadata": {},
   "source": [
    "EXERCISE=4  \n",
    "Some of the popular languages that Data Scientists use are: \n",
    "1. PYTHON \n",
    "2. R 3. \n",
    "3. scala \n",
    "4. java \n",
    "5. c++ \n",
    "6. SQL \n",
    "7. JULIA \n",
    "8. GO \n",
    "9. PHP \n",
    "10. RUBY "
   ]
  },
  {
   "cell_type": "markdown",
   "id": "603aca5a",
   "metadata": {},
   "source": [
    "EXERCISE=5  \n",
    "Some of the commonly used libraries used by Data Scientists include:\n",
    "1. NUMPY \n",
    "2. PANDAS \n",
    "3. MATPLOTLIB \n",
    "4. SEABORN \n",
    "5. KERAS \n",
    "6. TENSERFLOW \n",
    "7. PYTORCH \n",
    "8. SCIKITLEARN \n",
    "9. GGPLOT \n",
    "10. VEGAS "
   ]
  },
  {
   "cell_type": "markdown",
   "id": "8d08f764",
   "metadata": {},
   "source": [
    "EXERCISE =6  \n",
    "|Categories|Tools|\n",
    "|---|---|\n",
    "|Data  Mgmt|MYSQL,PSQL MONGODB Hadoop files|\n",
    "|Data Integration|Apache Airflow, Kubeflow, Apache Kafka, NodeRed|\n",
    "|Data Visualization |Hue,Pixie Dust,PowerBI ,Tableau|\n",
    "|Model Deployment|PredictionIO, MlEAP, SELDOM, SPSS|\n",
    "|Monitoring|ModelDB, Prometheus|\n",
    "|Code Asset Mgmt|git,github,gitlab|\n",
    "|Data AssetMgmt|Apache atlas,Kyto,Egeria|"
   ]
  },
  {
   "cell_type": "markdown",
   "id": "b584eb7c",
   "metadata": {},
   "source": [
    "EXERCISE=7  \n",
    "'+' for addition    \n",
    "'-' for subtraction    \n",
    "'*' for multilpication    \n",
    "'/' for division   \n",
    "'//\" for quotient  \n",
    "'%' for remainder\n",
    "Below are a few examples of evaluating arithmetic expressions in Python"
   ]
  },
  {
   "cell_type": "code",
   "execution_count": 3,
   "id": "8f05b6da",
   "metadata": {},
   "outputs": [
    {
     "data": {
      "text/plain": [
       "9"
      ]
     },
     "execution_count": 3,
     "metadata": {},
     "output_type": "execute_result"
    }
   ],
   "source": [
    "5+4"
   ]
  },
  {
   "cell_type": "code",
   "execution_count": 4,
   "id": "2d9ec83c",
   "metadata": {},
   "outputs": [
    {
     "data": {
      "text/plain": [
       "4"
      ]
     },
     "execution_count": 4,
     "metadata": {},
     "output_type": "execute_result"
    }
   ],
   "source": [
    "5-1"
   ]
  },
  {
   "cell_type": "code",
   "execution_count": 5,
   "id": "a1b8ed58",
   "metadata": {},
   "outputs": [
    {
     "data": {
      "text/plain": [
       "18"
      ]
     },
     "execution_count": 5,
     "metadata": {},
     "output_type": "execute_result"
    }
   ],
   "source": [
    "2*9"
   ]
  },
  {
   "cell_type": "code",
   "execution_count": 6,
   "id": "fe1382de",
   "metadata": {},
   "outputs": [
    {
     "data": {
      "text/plain": [
       "6.0"
      ]
     },
     "execution_count": 6,
     "metadata": {},
     "output_type": "execute_result"
    }
   ],
   "source": [
    "18/3"
   ]
  },
  {
   "cell_type": "code",
   "execution_count": 7,
   "id": "ce7803ae",
   "metadata": {},
   "outputs": [
    {
     "data": {
      "text/plain": [
       "3"
      ]
     },
     "execution_count": 7,
     "metadata": {},
     "output_type": "execute_result"
    }
   ],
   "source": [
    "12//4"
   ]
  },
  {
   "cell_type": "code",
   "execution_count": 8,
   "id": "51e16cbb",
   "metadata": {},
   "outputs": [
    {
     "data": {
      "text/plain": [
       "3"
      ]
     },
     "execution_count": 8,
     "metadata": {},
     "output_type": "execute_result"
    }
   ],
   "source": [
    "15%6"
   ]
  },
  {
   "cell_type": "code",
   "execution_count": 10,
   "id": "b723ec57",
   "metadata": {},
   "outputs": [
    {
     "name": "stdout",
     "output_type": "stream",
     "text": [
      "Enter 1st number to multiply: 8\n",
      "Enter 2nd number to multiply: 2\n",
      "Enter number to add: 4\n",
      "result of multiply and add 20\n"
     ]
    }
   ],
   "source": [
    "mul1=int(input(\"Enter 1st number to multiply: \"))\n",
    "mul2=int(input(\"Enter 2nd number to multiply: \"))\n",
    "add=int(input(\"Enter number to add: \"))\n",
    "print(\"result of multiply and add\",mul1*mul2 + add)"
   ]
  },
  {
   "cell_type": "code",
   "execution_count": 12,
   "id": "58d78718",
   "metadata": {},
   "outputs": [
    {
     "data": {
      "text/plain": [
       "15"
      ]
     },
     "execution_count": 12,
     "metadata": {},
     "output_type": "execute_result"
    }
   ],
   "source": [
    "#This a simple arithmetic expression to mutiply then add integers\n",
    "2*3+9"
   ]
  },
  {
   "cell_type": "code",
   "execution_count": 14,
   "id": "e7fe6093",
   "metadata": {},
   "outputs": [
    {
     "name": "stdout",
     "output_type": "stream",
     "text": [
      "Enter Minutes :--> 200\n",
      "Hour : Minute :-->  3  :  20\n"
     ]
    }
   ],
   "source": [
    "#Exercise 9 - Create a code cell to convert minutes to hours\n",
    "# Python Program to Convert Minute to Hour\n",
    "min = int(input(\"Enter Minutes :--> \"))\n",
    "print(\"Hour : Minute :--> \", int(min/60), \" : \", min % 60)"
   ]
  },
  {
   "cell_type": "markdown",
   "id": "149cb1c4",
   "metadata": {},
   "source": [
    "## Author\n",
    "Sarthak Aggarwal"
   ]
  },
  {
   "cell_type": "code",
   "execution_count": null,
   "id": "9476e9df",
   "metadata": {},
   "outputs": [],
   "source": []
  }
 ],
 "metadata": {
  "kernelspec": {
   "display_name": "Python 3 (ipykernel)",
   "language": "python",
   "name": "python3"
  },
  "language_info": {
   "codemirror_mode": {
    "name": "ipython",
    "version": 3
   },
   "file_extension": ".py",
   "mimetype": "text/x-python",
   "name": "python",
   "nbconvert_exporter": "python",
   "pygments_lexer": "ipython3",
   "version": "3.11.3"
  }
 },
 "nbformat": 4,
 "nbformat_minor": 5
}
